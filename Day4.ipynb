{
  "nbformat": 4,
  "nbformat_minor": 0,
  "metadata": {
    "colab": {
      "provenance": [],
      "toc_visible": true,
      "authorship_tag": "ABX9TyN8bJCVlE4Xbi0PLEbwObf2",
      "include_colab_link": true
    },
    "kernelspec": {
      "name": "python3",
      "display_name": "Python 3"
    },
    "language_info": {
      "name": "python"
    }
  },
  "cells": [
    {
      "cell_type": "markdown",
      "metadata": {
        "id": "view-in-github",
        "colab_type": "text"
      },
      "source": [
        "<a href=\"https://colab.research.google.com/github/Dhakal1997/30-day-python/blob/main/Day4.ipynb\" target=\"_parent\"><img src=\"https://colab.research.google.com/assets/colab-badge.svg\" alt=\"Open In Colab\"/></a>"
      ]
    },
    {
      "cell_type": "markdown",
      "source": [
        "Day-4. File Handling\n"
      ],
      "metadata": {
        "id": "KKX-U1QCGgAn"
      }
    },
    {
      "cell_type": "code",
      "source": [
        "#creating the file if not already exists\n",
        "f = open(\"myfile.txt\", \"w\")\n",
        "\n",
        "#adding the texts in the file above\n",
        "f.write(\"YaY! I have wrote the content!.\\n\")\n",
        "v = f.write(\"This is a second line of text. \\n\")\n",
        "#print(v)\n",
        "\n",
        "\n",
        "#Always close the file\n",
        "f.close()\n",
        "\n",
        "#reading the content of the file\n",
        "f = open(\"myfile.txt\", \"r\")\n",
        "print(f.read())\n",
        "f.close()"
      ],
      "metadata": {
        "colab": {
          "base_uri": "https://localhost:8080/"
        },
        "id": "qaYp29-eGqsd",
        "outputId": "40585387-2cb6-45de-aefb-c1f9dba6bd16"
      },
      "execution_count": null,
      "outputs": [
        {
          "output_type": "stream",
          "name": "stdout",
          "text": [
            "YaY! I have wrote the content!.\n",
            "This is a second line of text. \n",
            "\n"
          ]
        }
      ]
    }
  ]
}