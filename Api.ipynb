{
  "nbformat": 4,
  "nbformat_minor": 0,
  "metadata": {
    "colab": {
      "provenance": [],
      "authorship_tag": "ABX9TyNq8a7nFB4qUCzvH5NLk2g+",
      "include_colab_link": true
    },
    "kernelspec": {
      "name": "python3",
      "display_name": "Python 3"
    },
    "language_info": {
      "name": "python"
    }
  },
  "cells": [
    {
      "cell_type": "markdown",
      "metadata": {
        "id": "view-in-github",
        "colab_type": "text"
      },
      "source": [
        "<a href=\"https://colab.research.google.com/github/Dhakal1997/30-day-python/blob/main/Api.ipynb\" target=\"_parent\"><img src=\"https://colab.research.google.com/assets/colab-badge.svg\" alt=\"Open In Colab\"/></a>"
      ]
    },
    {
      "cell_type": "code",
      "execution_count": 3,
      "metadata": {
        "colab": {
          "base_uri": "https://localhost:8080/"
        },
        "id": "JodChCB8V6yh",
        "outputId": "b5b35ba1-2c07-410a-f117-eb4f8661ef73"
      },
      "outputs": [
        {
          "output_type": "stream",
          "name": "stdout",
          "text": [
            "Name: Leanne Graham, Username: Bret, Email: Sincere@april.biz, Phone: 1-770-736-8031 x56442, Website: hildegard.org\n",
            "Name: Ervin Howell, Username: Antonette, Email: Shanna@melissa.tv, Phone: 010-692-6593 x09125, Website: anastasia.net\n",
            "Name: Clementine Bauch, Username: Samantha, Email: Nathan@yesenia.net, Phone: 1-463-123-4447, Website: ramiro.info\n",
            "Name: Patricia Lebsack, Username: Karianne, Email: Julianne.OConner@kory.org, Phone: 493-170-9623 x156, Website: kale.biz\n",
            "Name: Chelsey Dietrich, Username: Kamren, Email: Lucio_Hettinger@annie.ca, Phone: (254)954-1289, Website: demarco.info\n",
            "Name: Mrs. Dennis Schulist, Username: Leopoldo_Corkery, Email: Karley_Dach@jasper.info, Phone: 1-477-935-8478 x6430, Website: ola.org\n",
            "Name: Kurtis Weissnat, Username: Elwyn.Skiles, Email: Telly.Hoeger@billy.biz, Phone: 210.067.6132, Website: elvis.io\n",
            "Name: Nicholas Runolfsdottir V, Username: Maxime_Nienow, Email: Sherwood@rosamond.me, Phone: 586.493.6943 x140, Website: jacynthe.com\n",
            "Name: Glenna Reichert, Username: Delphine, Email: Chaim_McDermott@dana.io, Phone: (775)976-6794 x41206, Website: conrad.com\n",
            "Name: Clementina DuBuque, Username: Moriah.Stanton, Email: Rey.Padberg@karina.biz, Phone: 024-648-3804, Website: ambrose.net\n"
          ]
        }
      ],
      "source": [
        "import requests\n",
        "\n",
        "# URL of the API\n",
        "url = \"https://jsonplaceholder.typicode.com/users\"\n",
        "\n",
        "# Fetch data from the API\n",
        "response = requests.get(url)\n",
        "\n",
        "# Parse the JSON response\n",
        "users = response.json()\n",
        "\n",
        "# Store the data in a dictionary\n",
        "contacts = {}\n",
        "\n",
        "# Loop through the users and store them in the contacts dictionary\n",
        "for user in users:\n",
        "    name = user['name']\n",
        "    contacts[name] = {\n",
        "        \"username\": user['username'],\n",
        "        \"email\": user['email'],\n",
        "        \"phone\": user['phone'],\n",
        "        \"website\": user['website']\n",
        "    }\n",
        "\n",
        "# Print the contacts dictionary\n",
        "for name, info in contacts.items():\n",
        "    print(f\"Name: {name}, Username: {info['username']}, Email: {info['email']}, Phone: {info['phone']}, Website: {info['website']}\")\n"
      ]
    }
  ]
}