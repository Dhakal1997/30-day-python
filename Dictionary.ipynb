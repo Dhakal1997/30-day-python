{
  "nbformat": 4,
  "nbformat_minor": 0,
  "metadata": {
    "colab": {
      "provenance": [],
      "authorship_tag": "ABX9TyOJyMBPzwvcJdZCLnLpzLxT",
      "include_colab_link": true
    },
    "kernelspec": {
      "name": "python3",
      "display_name": "Python 3"
    },
    "language_info": {
      "name": "python"
    }
  },
  "cells": [
    {
      "cell_type": "markdown",
      "metadata": {
        "id": "view-in-github",
        "colab_type": "text"
      },
      "source": [
        "<a href=\"https://colab.research.google.com/github/Dhakal1997/30-day-python/blob/main/Dictionary.ipynb\" target=\"_parent\"><img src=\"https://colab.research.google.com/assets/colab-badge.svg\" alt=\"Open In Colab\"/></a>"
      ]
    },
    {
      "source": [
        "\n",
        "\n",
        "\n",
        "# Define your contacts dictionary\n",
        "contacts = {}\n",
        "\n",
        "\n",
        "while True:\n",
        "    print(\"Welcome to my Contacts Book Application. \\n\")\n",
        "    print(\"1. Create a contact \\n\")\n",
        "    print(\"2. Search a contact \\n\")\n",
        "    print(\"3. Update a contact \\n\")\n",
        "    print(\"4. Delete a contact \\n\")\n",
        "    print(\"5. Count a contact \\n\")\n",
        "    print(\"6. View  all contacts \\n\")\n",
        "    print(\"7. exit a contact \\n\")\n",
        "\n",
        "    choice = input(\"Enter your choice =\")\n",
        "\n",
        "    if choice == '1': #Fixed indentation\n",
        "        name = input(\"Enter your name :\") # Fixed indentation and missing \"\n",
        "        if name in contacts:\n",
        "            print(f\"Name {name} already exists.\")\n",
        "        else:\n",
        "            print(\"You want to create a contact.\\n\")\n",
        "\n",
        "            age = input(\"Enter your age:\")\n",
        "            relation = input(\"Enter your relation: \")\n",
        "            mobile = input(\"Enter your phone number: \")\n",
        "            contacts[name] = {\"age\":int(age), \"rel\":{relation}, \"monile\":{mobile}} # Changed monile to mobile\n",
        "            print(f\"Your Name:{name} is successfully added!\")# Added space after {name}\n",
        "\n",
        "    if choice == '2':\n",
        "      name = input(\"Enter your name you want to search :\")\n",
        "      if name not in contacts:\n",
        "        print(f\"Name {name} does not exists.\")\n",
        "      else:\n",
        "        print(f\"Name:{name},\\n Age:{age}, \\n Relation:{relation}, \\n Mobile:{mobile}\")\n",
        "\n",
        "    if choice == '3':\n",
        "      name = input(\"Enter your name you want to update :\")\n",
        "      if name not in contacts:\n",
        "        print(f\"Name {name} does not exists.\")\n",
        "      else:\n",
        "        print(\"You want to update a contact.\\n\")\n",
        "        name = input(\"Enter your Updated name :\")\n",
        "        age = input(\"Enter your Updated age :\")\n",
        "        relation = input(\"Enter your updated relation: \")\n",
        "        mobile = input(\"Enter your updated phone number: \")\n",
        "        contacts[name] = {\"age\":int(age), \"rel\":{relation}, \"monile\":{mobile}}\n",
        "\n",
        "    if choice == '4':\n",
        "      name = input(\"Enter your name you want to delete :\")\n",
        "      if name not in contacts:\n",
        "        print(f\"Name {name} does not exists.\")\n",
        "      else:\n",
        "        del contacts[name]\n",
        "\n",
        "    if choice == '5':\n",
        "      print(f\"Total contacts are {len(contacts)}\")\n",
        "\n",
        "    if choice == '6':\n",
        "      print(\"All Contacts are .\\n\")\n",
        "      print(contacts)\n",
        "\n",
        "    if choice == '7':\n",
        "      print(\"Thank you for using my application\")\n",
        "      break\n",
        "\n",
        "    else:\n",
        "      print(\"Invalid input\")\n",
        "\n",
        "\n",
        "\n"
      ],
      "cell_type": "code",
      "metadata": {
        "colab": {
          "base_uri": "https://localhost:8080/"
        },
        "id": "5moMXg9q84td",
        "outputId": "a2f1fb8a-3de9-4ccd-bd09-43a5f85398dd"
      },
      "execution_count": 5,
      "outputs": [
        {
          "output_type": "stream",
          "name": "stdout",
          "text": [
            "Welcome to my Contacts Book Application. \n",
            "\n",
            "1. Create a contact \n",
            "\n",
            "2. Search a contact \n",
            "\n",
            "3. Update a contact \n",
            "\n",
            "4. Delete a contact \n",
            "\n",
            "5. Count a contact \n",
            "\n",
            "6. View  all contacts \n",
            "\n",
            "7. exit a contact \n",
            "\n",
            "Enter your choice =1\n",
            "Enter your name :Nock\n",
            "You want to create a contact.\n",
            "\n",
            "Enter your age:22\n",
            "Enter your relation: self\n",
            "Enter your phone number: 776\n",
            "Your Name:Nock is successfully added!\n",
            "Invalid input\n",
            "Welcome to my Contacts Book Application. \n",
            "\n",
            "1. Create a contact \n",
            "\n",
            "2. Search a contact \n",
            "\n",
            "3. Update a contact \n",
            "\n",
            "4. Delete a contact \n",
            "\n",
            "5. Count a contact \n",
            "\n",
            "6. View  all contacts \n",
            "\n",
            "7. exit a contact \n",
            "\n",
            "Enter your choice =7\n",
            "Thank you for using my application\n"
          ]
        }
      ]
    }
  ]
}